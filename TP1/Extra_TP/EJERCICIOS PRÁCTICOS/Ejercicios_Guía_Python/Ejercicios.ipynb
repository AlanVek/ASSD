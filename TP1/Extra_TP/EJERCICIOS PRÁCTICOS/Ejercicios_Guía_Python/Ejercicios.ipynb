{
 "cells": [
  {
   "cell_type": "code",
   "execution_count": 34,
   "id": "addressed-helena",
   "metadata": {},
   "outputs": [],
   "source": [
    "import numpy as np\n",
    "from cmath import sqrt\n",
    "\n",
    "class Causal(list):\n",
    "    def __init__(self, *args, **kwargs):\n",
    "        super().__init__(*args, **kwargs)\n",
    "\n",
    "    def __getitem__(self, item):\n",
    "        if item >= 0: return super().__getitem__(item)\n",
    "        else: return 0\n",
    "        \n",
    "    def __mul__(self, num):\n",
    "        return Causal(super().__mul__(num))\n",
    "    \n",
    "    \n",
    "N = 10\n",
    "delta = lambda n: 1 if not n else 0\n",
    "xAxis = np.arange(N)"
   ]
  },
  {
   "cell_type": "markdown",
   "id": "comprehensive-charleston",
   "metadata": {},
   "source": [
    " "
   ]
  },
  {
   "cell_type": "markdown",
   "id": "aquatic-mexico",
   "metadata": {},
   "source": [
    "### Ejercicio 2.B"
   ]
  },
  {
   "cell_type": "code",
   "execution_count": 42,
   "id": "specified-companion",
   "metadata": {},
   "outputs": [
    {
     "name": "stdout",
     "output_type": "stream",
     "text": [
      "Salida del sistema de forma iterativa: [1.0, 2.0, 1.5, 0.5, -0.25, -0.5, -0.375, -0.125, 0.0625, 0.125]\n",
      "Salida del sistema de forma cerrada  : [1.0, 2.0, 1.5, 0.5, -0.25, -0.5, -0.375, -0.125, 0.0625, 0.125]\n"
     ]
    }
   ],
   "source": [
    "\n",
    "A_2b = Causal([0]) * N\n",
    "\n",
    "for i in range(N):\n",
    "    A_2b[i] = delta(i) + A_2b[i - 1] - 0.5 * A_2b[i - 2]\n",
    "\n",
    "\n",
    "y_2b = [A_2b[i] + A_2b[i - 1] for i in xAxis]\n",
    "\n",
    "y_2b_closed = 2 ** ((1 - xAxis) / 2) * (np.cos((xAxis - 1) * np.pi / 4) + np.sqrt(2) * np.sin(xAxis * np.pi / 4))\n",
    "\n",
    "print(f'Salida del sistema de forma iterativa: {list(np.round(y_2b, 4))}')\n",
    "print(f'Salida del sistema de forma cerrada  : {list(y_2b_closed.round(4))}')"
   ]
  },
  {
   "cell_type": "markdown",
   "id": "thorough-tongue",
   "metadata": {},
   "source": [
    " "
   ]
  },
  {
   "cell_type": "markdown",
   "id": "golden-nurse",
   "metadata": {},
   "source": [
    "### Ejercicio 9"
   ]
  },
  {
   "cell_type": "code",
   "execution_count": 49,
   "id": "adjacent-violation",
   "metadata": {},
   "outputs": [
    {
     "name": "stdout",
     "output_type": "stream",
     "text": [
      "Salida del sistema de forma iterativa: [0.0, 0.0, 0.5, 0.25, -0.875, -0.9375, 1.2812, 2.5156, -1.3047, -5.6836]\n",
      "Salida del sistema de forma cerrada  : [0.0, 0.0, 0.5, 0.25, -0.875, -0.9375, 1.2812, 2.5156, -1.3047, -5.6836]\n",
      "\n",
      "C1 encontrada: -0.1796053020267749j\n",
      "C1 teórica   : -0.1796053020267749j\n"
     ]
    }
   ],
   "source": [
    "alpha = .5\n",
    "beta = -2\n",
    "\n",
    "A_9 = Causal([0]) * N\n",
    "\n",
    "for i in range(N):\n",
    "    A_9[i] = delta(i - 2) * 0.5 + A_9[i - 1] * alpha + A_9[i - 2] * beta\n",
    "\n",
    "r1 = (alpha + sqrt(alpha**2 + 4 * beta)) / 2\n",
    "r2 = alpha - r1\n",
    "\n",
    "y_9 = A_9\n",
    "\n",
    "c1, c2 = np.linalg.solve([[1, 1], [r1, r2]], [0, 1/2])\n",
    "y_9_closed = np.real(np.concatenate(([0], c1 * r1**xAxis[:N-1] + c2 * r2**xAxis[:N-1])))\n",
    "\n",
    "\n",
    "print(f'Salida del sistema de forma iterativa: {list(np.round(y_9, 4))}')\n",
    "print(f'Salida del sistema de forma cerrada  : {list(y_9_closed.round(4))}')\n",
    "\n",
    "print(f'\\nC1 encontrada: {c1}')\n",
    "print(f'C1 teórica   : {.5 / (r1 - r2)}')"
   ]
  }
 ],
 "metadata": {
  "kernelspec": {
   "display_name": "Python 3",
   "language": "python",
   "name": "python3"
  },
  "language_info": {
   "codemirror_mode": {
    "name": "ipython",
    "version": 3
   },
   "file_extension": ".py",
   "mimetype": "text/x-python",
   "name": "python",
   "nbconvert_exporter": "python",
   "pygments_lexer": "ipython3",
   "version": "3.9.2"
  }
 },
 "nbformat": 4,
 "nbformat_minor": 5
}
