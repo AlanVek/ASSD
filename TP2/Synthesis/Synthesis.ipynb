{
 "cells": [
  {
   "cell_type": "code",
   "execution_count": 2,
   "id": "f7b08c63-b0de-439d-8b6f-4f5918bb2e3f",
   "metadata": {},
   "outputs": [],
   "source": [
    "from IPython.display import Audio\n",
    "import numpy as np\n",
    "import mido\n",
    "import pandas as pd\n",
    "import matplotlib.pyplot as plt\n",
    "import pyaudio as pa\n",
    "from threading import Thread\n",
    "from scipy import signal"
   ]
  },
  {
   "cell_type": "code",
   "execution_count": 3,
   "id": "84397aa1-c40f-4249-8ee8-2ace1f0f2bb5",
   "metadata": {
    "tags": []
   },
   "outputs": [],
   "source": [
    "class Instrument:\n",
    "    \n",
    "    notes = {'A' : 27.5, 'A#' : 29.0, 'B' : 30.87, 'Bb' : 29.135, 'C' : 16.35, 'C#' : 17.32, 'D' : 18.35, 'D#' : 19.0, 'E' : 20.6, 'Eb' : 19.445, 'F' : 21.83, 'F#' : 23.12 ,'G' : 24.5, 'G#' : 25.96}\n",
    "\n",
    "    df = pd.read_csv('notes.csv').set_index('Num')\n",
    "    \n",
    "    def __init__(self, *args, **kwargs):\n",
    "        pass\n",
    "        \n",
    "    def load(self, midi): \n",
    "        self.midi, point = midi, 0\n",
    "        self.tempos = np.array([[0], [120]])\n",
    "\n",
    "        for ev in self.midi.tracks[0]:\n",
    "            point += ev.time\n",
    "            if ev.is_meta and ev.type == 'set_tempo':\n",
    "                if point == 0: self.tempos = np.array([[point], [ev.tempo]])\n",
    "                else: self.tempos = np.append(self.tempos, [[point], [ev.tempo]], axis = 1)\n",
    "\n",
    "        self.time_steps = self.tempos[1] / (1e6 * self.midi.ticks_per_beat)\n",
    "        \n",
    "    def current_timestep(self, point):\n",
    "        return self.time_steps[self.tempos[0] <= point][-1]\n",
    "\n",
    "    def synthesize(self, track : int, fs : float, add = False, nochannels = [], stretch_lim = 150, lowtone = 0):\n",
    "        \n",
    "        self.track = self.midi.tracks[track]\n",
    "        self.fs = fs\n",
    "\n",
    "        if not hasattr(self, 'sound'): self.sound = np.zeros(int(np.round(self.fs * self.midi.length, 0)))\n",
    "        elif not add: self.sound[:] = 0\n",
    "            \n",
    "        point = real_time = 0\n",
    "        self.used_off = []\n",
    "        \n",
    "        for i, ev in enumerate(self.track):\n",
    "            real_time += ev.time * self.current_timestep(point)\n",
    "            point += ev.time\n",
    "            \n",
    "            if not ev.is_meta and ev.type == 'note_on' and not ev.channel in nochannels and not i in self.used_off:\n",
    "                info = self.df.loc[ev.note]\n",
    "                fnote, octave = self.notes[info['Note']], info['Octave']\n",
    "            \n",
    "                d, v = self._find_off(ev.note, i, ev.channel)\n",
    "                duration = d * self.current_timestep(point) * 1.5\n",
    "                \n",
    "                if duration: self._add_note(fnote, octave, duration, max(v, ev.velocity), real_time, stretch_lim, lowtone)\n",
    "                    \n",
    "    def _add_note(self, fnote, octave, duration, velocity, real_time, stretch_lim, lowtone):\n",
    "        nt = self._gen_note(freq = fnote * 2**max(0, octave-lowtone), dur = duration, stretch_lim = stretch_lim)\n",
    "        nt *= velocity / np.abs(nt).max() * octave\n",
    "        \n",
    "        idx = int(np.round((self.fs * real_time), 0))\n",
    "\n",
    "        if idx + nt.size > self.sound.size:\n",
    "            self.sound = np.append(self.sound, np.zeros(idx + nt.size - self.sound.size))\n",
    "                    \n",
    "        self.sound[idx : idx + nt.size] += nt\n",
    "    \n",
    "    def _find_off(self, note, idx, channel):\n",
    "        tot = 0\n",
    "        for i, ev in enumerate(self.track[idx + 1:]):\n",
    "            tot += ev.time\n",
    "            if not ev.is_meta and ev.type in ['note_on', 'note_off'] and ev.note == note and ev.channel == channel:\n",
    "                self.used_off.append(i + idx + 1)\n",
    "                return tot, ev.velocity\n",
    "        return 0#raise Exception('MIDI error - Note never turned off')"
   ]
  },
  {
   "cell_type": "code",
   "execution_count": 11,
   "id": "d65940f9-2b78-4bb0-9640-f8919b8a871a",
   "metadata": {
    "tags": []
   },
   "outputs": [],
   "source": [
    "class KSInstrument(Instrument):\n",
    "    def __init__(self, *args, **kwargs):\n",
    "        super().__init__(*args, **kwargs)\n",
    "        \n",
    "    def _gen_note(self, freq, dur, stretch_factor, b):\n",
    "        N = int(np.round(self.fs/freq - .5, 0))\n",
    "        samples = np.zeros(int(np.round(self.fs * dur, 0)))\n",
    "        wavetable = (2 * np.random.randint(0, 2, N) - 1).astype(float)\n",
    "        self._update_mean_matrix(N, b)\n",
    "        \n",
    "        for i in range(0, samples.size + N - samples.size%N, N):\n",
    "            inival = wavetable[-1]\n",
    "            #stretchs = np.random.binomial(1, 1 / stretch_factor, N)\n",
    "            #idx = stretchs != 0\n",
    "            #wavetable[idx] = wavetable.dot(self.mean_matrix[:N, : N][:, idx])\n",
    "            wavetable = wavetable.dot(self.mean_matrix[:N, : N])\n",
    "            #expos = np.argwhere(idx).reshape(-1)\n",
    "            #if expos.size: difs = np.append(expos[0], expos[1:] - expos[:-1])\n",
    "            #else: difs = 0\n",
    "            #k = np.count_nonzero(idx)\n",
    "            #wavetable[idx] *= 2.0**(N - k)\n",
    "            #wavetable[idx] += inival * (b / 2)**(np.arange(1, N + 1)[idx] + N - k)\n",
    "            wavetable += inival * b**(i + 1) * (1 / 2)**np.arange(1, N + 1)\n",
    "            wavetable *= b\n",
    "            samples[i : i + N] = wavetable[ : min(N, samples.size - i)]\n",
    "        \n",
    "        return samples\n",
    "    \n",
    "    def _update_mean_matrix(self, N, b):\n",
    "\n",
    "        dif = 0\n",
    "        if not hasattr(self, 'mean_matrix'): \n",
    "            self.mean_matrix, dif = np.zeros((N, N)), N\n",
    "        \n",
    "        elif self.mean_matrix.shape[0] < N:\n",
    "            dif = N - self.mean_matrix.shape[0]\n",
    "            self.mean_matrix = np.append(self.mean_matrix, np.zeros((dif, N - dif)), axis = 0)\n",
    "            self.mean_matrix = np.append(self.mean_matrix, np.zeros((N, dif)), axis = 1)\n",
    "\n",
    "        for i in range(N - dif, N):\n",
    "            if i: self.mean_matrix[1 : i + 1, i] = self.mean_matrix[: i, i - 1]\n",
    "            self.mean_matrix[0, i] = 1 * (1/2)**(i+1)\n",
    "            \n",
    "class Guitar(KSInstrument):\n",
    "    \n",
    "    def __init__(self, *args, **kwargs):\n",
    "        super().__init__(*args, **kwargs)\n",
    "        \n",
    "    def _gen_note(self, freq, dur = 1, b = 1, stretch_lim = 150):\n",
    "        return super()._gen_note(freq = freq, dur = dur, b = 1, stretch_factor = max(1, freq / stretch_lim))\n",
    "    \n",
    "class Harp(KSInstrument):\n",
    "    \n",
    "    def __init__(self, *args, **kwargs):\n",
    "        super().__init__(*args, **kwargs)\n",
    "        \n",
    "    def _gen_note(self, freq, dur = 1, velocity = 50, b = 1, stretch_lim = 150):\n",
    "        return super()._gen_note(freq = freq, dur = dur, b = -1, stretch_factor = max(1, freq / stretch_lim))\n",
    "    "
   ]
  },
  {
   "cell_type": "code",
   "execution_count": 12,
   "id": "416e0581-d073-4e34-8a18-3cd706bbf229",
   "metadata": {},
   "outputs": [],
   "source": [
    "class Player:\n",
    "    \n",
    "    CHUNKSIZE = 1024\n",
    "    working = False\n",
    "    \n",
    "    \n",
    "    def __init__(self, *args, **kwargs):\n",
    "        if not Player.working: \n",
    "            Player.pAudio = pa.PyAudio() \n",
    "            Player.working = True\n",
    "        \n",
    "        self.paused = self.stop_playing = False\n",
    "        self.th = Thread(target = self._keep_playing)\n",
    "            \n",
    "    def load(self, data, fs):\n",
    "        self.sound = (data / np.abs(data).max()).astype(np.float32)\n",
    "        self.fs = fs\n",
    "        self._close_stream()\n",
    "        \n",
    "        self.stream = self.pAudio.open(rate = self.fs, format = pa.paFloat32, channels = 1, output = True)\n",
    "        self.stream.start_stream()\n",
    "        \n",
    "    def _keep_playing(self):\n",
    "        data = self.sound[ : self.CHUNKSIZE].tobytes()\n",
    "        self.idx += 1\n",
    "        \n",
    "        while len(data) and not self.stop_playing:\n",
    "            if not self.paused:\n",
    "                self.stream.write(data)\n",
    "                data = self.sound[self.idx * self.CHUNKSIZE : (self.idx + 1) * self.CHUNKSIZE].tobytes()\n",
    "                self.idx += 1\n",
    "\n",
    "        self.stop_playing = False\n",
    "        \n",
    "    def play(self, **kwargs): \n",
    "        \n",
    "        if self.paused: \n",
    "            self.paused = False\n",
    "        \n",
    "        else:\n",
    "            self.stop_playing = True\n",
    "            if self.th.is_alive(): self.th.join() \n",
    "\n",
    "            self.idx, self.stop_playing = 0, False\n",
    "            self.th = Thread(target = self._keep_playing)\n",
    "            self.th.start()\n",
    "    \n",
    "    def _close_stream(self):\n",
    "        self.stop_playing = True\n",
    "        if self.th.is_alive(): self.th.join()\n",
    "            \n",
    "        if hasattr(self, 'stream') and self.stream.is_active(): \n",
    "            self.stream.stop_stream()\n",
    "            self.stream.close()   \n",
    "        \n",
    "    def stop(self): \n",
    "        self.stop_playing = True\n",
    "        self.paused = False\n",
    "    \n",
    "    def pause(self): \n",
    "        self.paused = True\n",
    "        \n",
    "    def close(self): \n",
    "        self._close_stream()\n",
    "        self.pAudio.terminate()\n",
    "        Player.working = False"
   ]
  },
  {
   "cell_type": "code",
   "execution_count": 7,
   "id": "1da83ed6-6405-446b-aebe-7cb0438bbabb",
   "metadata": {},
   "outputs": [],
   "source": [
    "player = Player()\n",
    "guitar = Guitar()\n",
    "harp = Harp()"
   ]
  },
  {
   "cell_type": "markdown",
   "id": "87264ba9-8360-43de-b442-e601004f2029",
   "metadata": {},
   "source": [
    "## Hotel California"
   ]
  },
  {
   "cell_type": "code",
   "execution_count": null,
   "id": "9ddb4928-f30e-462a-8301-0d3ba679d2e1",
   "metadata": {},
   "outputs": [],
   "source": [
    "file = mido.MidiFile(\"Samples/hotelcal2.mid\")\n",
    "guitar.load(midi = file)\n",
    "guitar.synthesize(fs = 48000, track = 0, lowtone = 1, stretch_lim = 120)\n",
    "print('Synthesized')\n",
    "player.load(guitar.sound, guitar.fs)\n",
    "player.play()"
   ]
  },
  {
   "cell_type": "markdown",
   "id": "1afa52ca-2442-4ae2-a634-b83123992264",
   "metadata": {},
   "source": [
    "## Under the Sea"
   ]
  },
  {
   "cell_type": "code",
   "execution_count": null,
   "id": "60ea26cb-8d46-4bbd-ae6c-625fa8f081de",
   "metadata": {},
   "outputs": [],
   "source": [
    "file2 = mido.MidiFile(\"Samples/Disney_Themes_-_Under_The_Sea.mid\")\n",
    "guitar.load(midi = file2)\n",
    "for i in range(1, len(file2.tracks)):\n",
    "    print(f'Track {i} of {len(file2.tracks) - 1}')\n",
    "    guitar.synthesize(fs = 48000, track = i, add = i != 1)\n",
    "\n",
    "player.load(guitar.sound, guitar.fs)\n",
    "player.play()"
   ]
  },
  {
   "cell_type": "markdown",
   "id": "cd8b9f7b-50af-47de-b693-d9c2cd2449e0",
   "metadata": {},
   "source": [
    "## Never Gonna Give You Up"
   ]
  },
  {
   "cell_type": "code",
   "execution_count": null,
   "id": "8a5df061-efe6-461e-acbd-43387f91881c",
   "metadata": {},
   "outputs": [],
   "source": [
    "file3 = mido.MidiFile(\"Samples/Never-Gonna-Give-You-Up-3.mid\")\n",
    "guitar.load(midi = file3)\n",
    "guitar.synthesize(fs = 48000, track = 0)\n",
    "print('Synthesized')\n",
    "player.load(guitar.sound, guitar.fs)\n",
    "player.play()"
   ]
  },
  {
   "cell_type": "markdown",
   "id": "c3276a65-e278-47c1-bfef-0a9093f57f57",
   "metadata": {},
   "source": [
    "## Happy Birthday"
   ]
  },
  {
   "cell_type": "code",
   "execution_count": null,
   "id": "a028ffaf-235d-4d74-9ba7-17ef5fb2b7e0",
   "metadata": {},
   "outputs": [],
   "source": [
    "file4 = mido.MidiFile(\"Samples/happy_birthday.mid\")\n",
    "guitar.load(midi = file4)\n",
    "guitar.synthesize(fs = 48000, track = 1)\n",
    "print('Synthesized')\n",
    "player.load(guitar.sound, guitar.fs)\n",
    "player.play()"
   ]
  },
  {
   "cell_type": "code",
   "execution_count": null,
   "id": "0bb11245-8348-45bd-a91f-bc91d5c39154",
   "metadata": {},
   "outputs": [],
   "source": [
    "player.stop()"
   ]
  },
  {
   "cell_type": "markdown",
   "id": "c44b65d4-0b7e-4196-bee1-00215772df6f",
   "metadata": {},
   "source": [
    "## Losing My Religion"
   ]
  },
  {
   "cell_type": "code",
   "execution_count": null,
   "id": "4bd4f0dd-b2e1-482f-a987-ea3c9aeef1e9",
   "metadata": {},
   "outputs": [],
   "source": [
    "file5 = mido.MidiFile(\"Samples/losing_my_religion.mid\")\n",
    "guitar.load(midi = file5)\n",
    "guitar.synthesize(fs = 48000, track = 2, lowtone = 1, stretch_lim = 200)\n",
    "print('Synthesized')\n",
    "player.load(guitar.sound, guitar.fs)\n",
    "player.play()"
   ]
  },
  {
   "cell_type": "markdown",
   "id": "23c4e1e1-64ed-4db7-ad58-b889dc5a4e34",
   "metadata": {},
   "source": [
    "## Pirates of the Caribbean"
   ]
  },
  {
   "cell_type": "code",
   "execution_count": 26,
   "id": "71da9721-c698-431b-9341-bcec290e41c7",
   "metadata": {},
   "outputs": [
    {
     "name": "stdout",
     "output_type": "stream",
     "text": [
      "Synthesized\n"
     ]
    }
   ],
   "source": [
    "file8 = mido.MidiFile(\"Samples/26593_Hes-a-Pirate.mid\")\n",
    "guitar.load(midi = file8)\n",
    "guitar.synthesize(fs = 48000, track = 1, stretch_lim = 100, lowtone = 1)\n",
    "guitar.synthesize(fs = 48000, track = 2, stretch_lim = 300, lowtone = -1, add = True)\n",
    "print('Synthesized')\n",
    "player.load(guitar.sound, guitar.fs)\n",
    "player.play()"
   ]
  },
  {
   "cell_type": "code",
   "execution_count": 23,
   "id": "f7322afd-a1aa-467f-80dd-67f3f3e14613",
   "metadata": {},
   "outputs": [
    {
     "name": "stdout",
     "output_type": "stream",
     "text": [
      "Synthesized\n"
     ]
    }
   ],
   "source": [
    "file8 = mido.MidiFile(\"Samples/26593_Hes-a-Pirate.mid\")\n",
    "harp.load(midi = file8)\n",
    "harp.synthesize(fs = 48000, track = 1, stretch_lim = 100, lowtone = -1)\n",
    "harp.synthesize(fs = 48000, track = 2, stretch_lim = 300, lowtone = -1, add = True)\n",
    "print('Synthesized')\n",
    "player.load(harp.sound, harp.fs)\n",
    "player.play()"
   ]
  },
  {
   "cell_type": "code",
   "execution_count": 27,
   "id": "b3b3be05-53e0-41e4-926f-25b3c7339d81",
   "metadata": {},
   "outputs": [],
   "source": [
    "player.pause()"
   ]
  },
  {
   "cell_type": "markdown",
   "id": "9c1da74d-a1a0-4c1f-a87d-4e831f58452e",
   "metadata": {},
   "source": [
    "## Sign of the Times"
   ]
  },
  {
   "cell_type": "code",
   "execution_count": null,
   "id": "5e19f249-9c31-4feb-b9a6-d7d0adda8f5a",
   "metadata": {},
   "outputs": [],
   "source": [
    "file9 = mido.MidiFile(\"Samples/AUD_HTX0815.mid\")\n",
    "guitar.load(midi = file9)\n",
    "guitar.synthesize(fs = 48000, track = 0, stretch_lim = 120)\n",
    "player.load(guitar.sound, guitar.fs)\n",
    "player.play()"
   ]
  },
  {
   "cell_type": "markdown",
   "id": "ff74b1a1-ac7d-45a5-8145-0e8672e88d94",
   "metadata": {},
   "source": [
    "## Game of Thrones"
   ]
  },
  {
   "cell_type": "code",
   "execution_count": 8,
   "id": "41d7bc20-9f93-4e89-aa8b-f6d38973d78f",
   "metadata": {},
   "outputs": [],
   "source": [
    "file10 = mido.MidiFile(\"Samples/GameofThrones.mid\")\n",
    "guitar.load(midi = file10)\n",
    "guitar.synthesize(fs = 48000, track = 1, stretch_lim = 120)\n",
    "guitar.synthesize(fs = 48000, track = 2, stretch_lim = 120, add = True)\n",
    "guitar.synthesize(fs = 48000, track = 3, stretch_lim = 120, add = True)\n",
    "guitar.synthesize(fs = 48000, track = 4, stretch_lim = 120, add = True)\n",
    "player.load(guitar.sound, guitar.fs)\n",
    "player.play()"
   ]
  },
  {
   "cell_type": "code",
   "execution_count": 9,
   "id": "94bca746-06fe-49aa-835d-fe72018bb4fa",
   "metadata": {},
   "outputs": [],
   "source": [
    "player.pause()"
   ]
  },
  {
   "cell_type": "code",
   "execution_count": 10,
   "id": "a7d6d983-c4b4-41bb-b543-b81255716c14",
   "metadata": {},
   "outputs": [],
   "source": [
    "player.play()"
   ]
  },
  {
   "cell_type": "code",
   "execution_count": null,
   "id": "00339724-bded-41d3-bb16-48cc2d6a5832",
   "metadata": {},
   "outputs": [],
   "source": []
  }
 ],
 "metadata": {
  "kernelspec": {
   "display_name": "Python 3",
   "language": "python",
   "name": "python3"
  },
  "language_info": {
   "codemirror_mode": {
    "name": "ipython",
    "version": 3
   },
   "file_extension": ".py",
   "mimetype": "text/x-python",
   "name": "python",
   "nbconvert_exporter": "python",
   "pygments_lexer": "ipython3",
   "version": "3.9.2"
  }
 },
 "nbformat": 4,
 "nbformat_minor": 5
}
