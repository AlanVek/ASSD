{
 "cells": [
  {
   "cell_type": "code",
   "execution_count": 2,
   "id": "hidden-washington",
   "metadata": {},
   "outputs": [],
   "source": [
    "from scipy.signal import lfilter, lfilter_zi\n",
    "import scipy.signal as ss\n",
    "import numpy as np\n",
    "import pyaudio as pa\n",
    "from scipy.io import wavfile\n",
    "from time import time\n",
    "from IPython.display import Audio\n",
    "import matplotlib.pyplot as plt\n",
    "import librosa\n",
    "import librosa.display as ld"
   ]
  },
  {
   "cell_type": "code",
   "execution_count": 3,
   "id": "latest-relaxation",
   "metadata": {},
   "outputs": [],
   "source": [
    "def tofloat32(x): return (x / np.abs(x).max()).astype(np.float32)\n",
    "p = pa.PyAudio()"
   ]
  },
  {
   "cell_type": "code",
   "execution_count": 4,
   "id": "included-pioneer",
   "metadata": {},
   "outputs": [
    {
     "name": "stdout",
     "output_type": "stream",
     "text": [
      "1068390\n",
      "65536\n"
     ]
    }
   ],
   "source": [
    "fs, data = wavfile.read('Feliz_cumple.wav')\n",
    "data = tofloat32(data)\n",
    "print(len(data))\n",
    "print(fs)"
   ]
  },
  {
   "cell_type": "code",
   "execution_count": 5,
   "id": "outer-boring",
   "metadata": {},
   "outputs": [],
   "source": [
    "def transfer_function(fs, tau, T60, filter_type):\n",
    "    N = int(np.round(tau*fs, 0))\n",
    "    g = 10**(-3*tau/T60)\n",
    "    b = np.zeros(N + 1)\n",
    "    a = np.zeros(N+1)\n",
    "    \n",
    "    if filter_type == 'comb_filter':\n",
    "        b[0] = 1.0\n",
    "    else:\n",
    "        b[0] = -g\n",
    "        b[N] = 1.0\n",
    "    a[0] = 1.0\n",
    "    a[N] = -g\n",
    "    return np.poly1d(b), np.poly1d(a)\n",
    "\n",
    "\n",
    "def comb_filter(fs : int, data, tau : float, T60 : float, zi = None) -> tuple[np.array, np.array]:\n",
    "    N = int(np.round(tau * fs, 0))\n",
    "    a = np.zeros(N + 1)\n",
    "    a[[0, N]] = [1, 10 ** (-3 * tau / T60)]\n",
    "    b = [1.0]\n",
    "    if zi is None: zi = np.zeros(max(len(b), a.size) - 1)\n",
    "    print(len(b), a.size)    \n",
    "    return lfilter(b, a, data, zi = zi)"
   ]
  },
  {
   "cell_type": "code",
   "execution_count": 29,
   "id": "latin-samuel",
   "metadata": {},
   "outputs": [],
   "source": [
    "def create_tf(fs, tau, T60, filter_type):\n",
    "    \n",
    "    h = []\n",
    "    for i, t in enumerate(tau):\n",
    "        num, den = transfer_function(fs, t, T60[i], filter_type)\n",
    "        h.append([num.coef, den.coef])\n",
    "        \n",
    "    return h\n",
    "    \n",
    "    if filter_type == 'comb_filter':\n",
    "        \n",
    "        num, denom = 0, 1\n",
    "        for i, transfer in enumerate(h):\n",
    "            denom *= transfer[1] \n",
    "            temp_num = transfer[0]\n",
    "            \n",
    "            for j, other_div in enumerate(h):\n",
    "                if j == i: continue\n",
    "                temp_num *= other_div[1]\n",
    "                \n",
    "            num += temp_num\n",
    "        \n",
    "    elif filter_type == 'ap_filter':\n",
    "        num, denom = h[0][0] * h[1][0], h[0][1] * h[1][1]\n",
    "        \n",
    "    return num.coef, denom.coef"
   ]
  },
  {
   "cell_type": "code",
   "execution_count": 48,
   "id": "wrong-mustang",
   "metadata": {},
   "outputs": [],
   "source": [
    "chunksize = 1024 * 2\n",
    "tau_comb = np.array([50e-3, 21e-3, 33e-3, 47e-3])#[99e-3, 88e-3, 103e-3, 105e-3][9.1e-3, 7.7e-3, 10.1e-3, 11.2e-3]\n",
    "g_comb = np.array([0.81, 0.86, 0.79, 0.73])\n",
    "T60_comb = [0.2, 0.1, 0.1, 0.1]#-3*tau_comb / np.log10(g_comb)\n",
    "tau_ap = np.array([100e-3, 100e-3/3])\n",
    "g_ap = 0.7\n",
    "T60_ap = -3*tau_ap/np.log10(g_ap)\n",
    "y = data"
   ]
  },
  {
   "cell_type": "code",
   "execution_count": 49,
   "id": "casual-monroe",
   "metadata": {},
   "outputs": [
    {
     "ename": "KeyboardInterrupt",
     "evalue": "",
     "output_type": "error",
     "traceback": [
      "\u001b[1;31m---------------------------------------------------------------------------\u001b[0m",
      "\u001b[1;31mKeyboardInterrupt\u001b[0m                         Traceback (most recent call last)",
      "\u001b[1;32m<ipython-input-49-ddb4ba592c5f>\u001b[0m in \u001b[0;36m<module>\u001b[1;34m\u001b[0m\n\u001b[0;32m     37\u001b[0m     \u001b[0mstream\u001b[0m\u001b[1;33m.\u001b[0m\u001b[0mwrite\u001b[0m\u001b[1;33m(\u001b[0m\u001b[1;33m(\u001b[0m\u001b[0my_filt\u001b[0m \u001b[1;33m/\u001b[0m \u001b[1;33m(\u001b[0m\u001b[1;36m6\u001b[0m\u001b[1;33m*\u001b[0m\u001b[0mnorm\u001b[0m\u001b[1;33m)\u001b[0m\u001b[1;33m)\u001b[0m\u001b[1;33m.\u001b[0m\u001b[0mastype\u001b[0m\u001b[1;33m(\u001b[0m\u001b[0mnp\u001b[0m\u001b[1;33m.\u001b[0m\u001b[0mfloat32\u001b[0m\u001b[1;33m)\u001b[0m\u001b[1;33m.\u001b[0m\u001b[0mtobytes\u001b[0m\u001b[1;33m(\u001b[0m\u001b[1;33m)\u001b[0m\u001b[1;33m)\u001b[0m\u001b[1;33m\u001b[0m\u001b[1;33m\u001b[0m\u001b[0m\n\u001b[0;32m     38\u001b[0m     \u001b[0my_chunk\u001b[0m \u001b[1;33m=\u001b[0m \u001b[0my\u001b[0m\u001b[1;33m[\u001b[0m\u001b[0mi\u001b[0m \u001b[1;33m*\u001b[0m \u001b[0mchunksize\u001b[0m \u001b[1;33m:\u001b[0m \u001b[1;33m(\u001b[0m\u001b[0mi\u001b[0m \u001b[1;33m+\u001b[0m \u001b[1;36m1\u001b[0m\u001b[1;33m)\u001b[0m \u001b[1;33m*\u001b[0m \u001b[0mchunksize\u001b[0m\u001b[1;33m]\u001b[0m\u001b[1;33m\u001b[0m\u001b[1;33m\u001b[0m\u001b[0m\n\u001b[1;32m---> 39\u001b[1;33m     \u001b[0my_filt\u001b[0m \u001b[1;33m=\u001b[0m \u001b[0mapply\u001b[0m\u001b[1;33m(\u001b[0m\u001b[0my_chunk\u001b[0m\u001b[1;33m,\u001b[0m \u001b[0mzi\u001b[0m \u001b[1;33m=\u001b[0m \u001b[0mzi\u001b[0m\u001b[1;33m)\u001b[0m\u001b[1;33m\u001b[0m\u001b[1;33m\u001b[0m\u001b[0m\n\u001b[0m\u001b[0;32m     40\u001b[0m     \u001b[0mi\u001b[0m \u001b[1;33m+=\u001b[0m \u001b[1;36m1\u001b[0m\u001b[1;33m\u001b[0m\u001b[1;33m\u001b[0m\u001b[0m\n\u001b[0;32m     41\u001b[0m \u001b[1;33m\u001b[0m\u001b[0m\n",
      "\u001b[1;32m<ipython-input-49-ddb4ba592c5f>\u001b[0m in \u001b[0;36mapply\u001b[1;34m(y, zi)\u001b[0m\n\u001b[0;32m     17\u001b[0m \u001b[1;33m\u001b[0m\u001b[0m\n\u001b[0;32m     18\u001b[0m     \u001b[1;32mfor\u001b[0m \u001b[0mi\u001b[0m\u001b[1;33m,\u001b[0m \u001b[0mfilt\u001b[0m \u001b[1;32min\u001b[0m \u001b[0menumerate\u001b[0m\u001b[1;33m(\u001b[0m\u001b[0mh_ap\u001b[0m\u001b[1;33m)\u001b[0m\u001b[1;33m:\u001b[0m\u001b[1;33m\u001b[0m\u001b[1;33m\u001b[0m\u001b[0m\n\u001b[1;32m---> 19\u001b[1;33m         \u001b[0mout\u001b[0m\u001b[1;33m,\u001b[0m \u001b[0mz\u001b[0m \u001b[1;33m=\u001b[0m \u001b[0mlfilter\u001b[0m\u001b[1;33m(\u001b[0m\u001b[1;33m*\u001b[0m\u001b[0mfilt\u001b[0m\u001b[1;33m,\u001b[0m \u001b[0mout\u001b[0m\u001b[1;33m,\u001b[0m \u001b[0mzi\u001b[0m \u001b[1;33m=\u001b[0m \u001b[0mzi\u001b[0m\u001b[1;33m[\u001b[0m\u001b[0mi\u001b[0m \u001b[1;33m+\u001b[0m \u001b[0mlen\u001b[0m\u001b[1;33m(\u001b[0m\u001b[0mh_comb\u001b[0m\u001b[1;33m)\u001b[0m\u001b[1;33m]\u001b[0m\u001b[1;33m)\u001b[0m\u001b[1;33m\u001b[0m\u001b[1;33m\u001b[0m\u001b[0m\n\u001b[0m\u001b[0;32m     20\u001b[0m         \u001b[0mzi\u001b[0m\u001b[1;33m[\u001b[0m\u001b[0mi\u001b[0m \u001b[1;33m+\u001b[0m \u001b[0mlen\u001b[0m\u001b[1;33m(\u001b[0m\u001b[0mh_comb\u001b[0m\u001b[1;33m)\u001b[0m\u001b[1;33m]\u001b[0m \u001b[1;33m=\u001b[0m \u001b[0mz\u001b[0m\u001b[1;33m\u001b[0m\u001b[1;33m\u001b[0m\u001b[0m\n\u001b[0;32m     21\u001b[0m \u001b[1;33m\u001b[0m\u001b[0m\n",
      "\u001b[1;32m~\\AppData\\Roaming\\Python\\Python39\\site-packages\\scipy\\signal\\signaltools.py\u001b[0m in \u001b[0;36mlfilter\u001b[1;34m(b, a, x, axis, zi)\u001b[0m\n\u001b[0;32m   2030\u001b[0m             \u001b[1;32mreturn\u001b[0m \u001b[0msigtools\u001b[0m\u001b[1;33m.\u001b[0m\u001b[0m_linear_filter\u001b[0m\u001b[1;33m(\u001b[0m\u001b[0mb\u001b[0m\u001b[1;33m,\u001b[0m \u001b[0ma\u001b[0m\u001b[1;33m,\u001b[0m \u001b[0mx\u001b[0m\u001b[1;33m,\u001b[0m \u001b[0maxis\u001b[0m\u001b[1;33m)\u001b[0m\u001b[1;33m\u001b[0m\u001b[1;33m\u001b[0m\u001b[0m\n\u001b[0;32m   2031\u001b[0m         \u001b[1;32melse\u001b[0m\u001b[1;33m:\u001b[0m\u001b[1;33m\u001b[0m\u001b[1;33m\u001b[0m\u001b[0m\n\u001b[1;32m-> 2032\u001b[1;33m             \u001b[1;32mreturn\u001b[0m \u001b[0msigtools\u001b[0m\u001b[1;33m.\u001b[0m\u001b[0m_linear_filter\u001b[0m\u001b[1;33m(\u001b[0m\u001b[0mb\u001b[0m\u001b[1;33m,\u001b[0m \u001b[0ma\u001b[0m\u001b[1;33m,\u001b[0m \u001b[0mx\u001b[0m\u001b[1;33m,\u001b[0m \u001b[0maxis\u001b[0m\u001b[1;33m,\u001b[0m \u001b[0mzi\u001b[0m\u001b[1;33m)\u001b[0m\u001b[1;33m\u001b[0m\u001b[1;33m\u001b[0m\u001b[0m\n\u001b[0m\u001b[0;32m   2033\u001b[0m \u001b[1;33m\u001b[0m\u001b[0m\n\u001b[0;32m   2034\u001b[0m \u001b[1;33m\u001b[0m\u001b[0m\n",
      "\u001b[1;31mKeyboardInterrupt\u001b[0m: "
     ]
    }
   ],
   "source": [
    "stream = p.open(channels = 1, format = pa.paFloat32, rate = fs, output = True)\n",
    "stream.start_stream()\n",
    "\n",
    "\n",
    "y_chunk = y[ : chunksize]\n",
    "\n",
    "h_comb = create_tf(fs, tau_comb, T60_comb, 'comb_filter')\n",
    "h_ap = create_tf(fs, tau_ap, T60_ap, 'ap_filter') # h_ap = [1, 1]\n",
    "\n",
    "def apply(y, zi):\n",
    "    out = np.zeros(y.size)\n",
    "    \n",
    "    for i, filt in enumerate(h_comb):\n",
    "        f, z = lfilter(*filt, y, zi = zi[i])\n",
    "        out += f\n",
    "        zi[i] = z\n",
    "    \n",
    "    for i, filt in enumerate(h_ap):\n",
    "        out, z = lfilter(*filt, out, zi = zi[i + len(h_comb)])\n",
    "        zi[i + len(h_comb)] = z\n",
    "    \n",
    "    return out\n",
    "   \n",
    "zi = []\n",
    "\n",
    "for transfer in h_comb:\n",
    "    zi.append(np.zeros(-1 + max(len(transfer[0]), len(transfer[1]))))\n",
    "for transfer in h_ap: \n",
    "    zi.append(np.zeros(-1 + max(len(transfer[0]), len(transfer[1]))))\n",
    "\n",
    "y_filt = apply(y_chunk, zi = zi)\n",
    "i = 1\n",
    "\n",
    "norm = np.abs(y).max()\n",
    "\n",
    "while len(y_filt) > 0 and i < 250:\n",
    "    stream.write((y_filt / (6*norm)).astype(np.float32).tobytes())\n",
    "    y_chunk = y[i * chunksize : (i + 1) * chunksize]\n",
    "    y_filt = apply(y_chunk, zi = zi) \n",
    "    i += 1\n",
    "    \n",
    "stream.stop_stream()\n",
    "stream.close()\n",
    "#Audio(res, rate = fs)"
   ]
  },
  {
   "cell_type": "code",
   "execution_count": 27,
   "id": "8390c1bd-ab5c-4a3d-89f2-562e9a767801",
   "metadata": {},
   "outputs": [
    {
     "data": {
      "text/plain": [
       "18636"
      ]
     },
     "execution_count": 27,
     "metadata": {},
     "output_type": "execute_result"
    }
   ],
   "source": [
    "h_tot[0].size"
   ]
  },
  {
   "cell_type": "code",
   "execution_count": 28,
   "id": "52407902-6f46-4557-9d0f-2ce83d1d004c",
   "metadata": {},
   "outputs": [
    {
     "data": {
      "text/plain": [
       "18636"
      ]
     },
     "execution_count": 28,
     "metadata": {},
     "output_type": "execute_result"
    }
   ],
   "source": [
    "h_tot[1].size"
   ]
  },
  {
   "cell_type": "code",
   "execution_count": 43,
   "id": "93b1b5b2-368d-41cc-b89c-dd9b98019e1e",
   "metadata": {},
   "outputs": [
    {
     "data": {
      "text/plain": [
       "[(6555, 6555), (2186, 2186)]"
      ]
     },
     "execution_count": 43,
     "metadata": {},
     "output_type": "execute_result"
    }
   ],
   "source": [
    "[(k[0].size, k[1].size) for k in h_ap]"
   ]
  },
  {
   "cell_type": "code",
   "execution_count": 44,
   "id": "012e9cbf-e4e3-4d9b-9715-fb8999579e4f",
   "metadata": {},
   "outputs": [
    {
     "data": {
      "text/plain": [
       "[(3278, 3278), (1377, 1377), (2164, 2164), (3081, 3081)]"
      ]
     },
     "execution_count": 44,
     "metadata": {},
     "output_type": "execute_result"
    }
   ],
   "source": [
    "[(k[0].size, k[1].size) for k in h_comb]"
   ]
  },
  {
   "cell_type": "code",
   "execution_count": null,
   "id": "0148ab49-c8c4-46c7-9eb5-fb5a70d0da28",
   "metadata": {},
   "outputs": [],
   "source": []
  }
 ],
 "metadata": {
  "kernelspec": {
   "display_name": "Python 3",
   "language": "python",
   "name": "python3"
  },
  "language_info": {
   "codemirror_mode": {
    "name": "ipython",
    "version": 3
   },
   "file_extension": ".py",
   "mimetype": "text/x-python",
   "name": "python",
   "nbconvert_exporter": "python",
   "pygments_lexer": "ipython3",
   "version": "3.9.2"
  }
 },
 "nbformat": 4,
 "nbformat_minor": 5
}
