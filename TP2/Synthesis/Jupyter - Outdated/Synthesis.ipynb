{
 "cells": [
  {
   "cell_type": "code",
   "execution_count": 1,
   "id": "f7b08c63-b0de-439d-8b6f-4f5918bb2e3f",
   "metadata": {},
   "outputs": [],
   "source": [
    "from IPython.display import Audio\n",
    "import numpy as np\n",
    "import mido\n",
    "import pandas as pd\n",
    "import matplotlib.pyplot as plt\n",
    "import pyaudio as pa\n",
    "from threading import Thread"
   ]
  },
  {
   "cell_type": "code",
   "execution_count": 2,
   "id": "84397aa1-c40f-4249-8ee8-2ace1f0f2bb5",
   "metadata": {
    "tags": []
   },
   "outputs": [],
   "source": [
    "# Clase abstracta Instrument para centralizar el comportamiento\n",
    "class Instrument:\n",
    "    \n",
    "    # Frecuencia fundamental de cada nota\n",
    "    notes = {'A' : 27.5, 'A#' : 29.0, 'B' : 30.87, 'Bb' : 29.135, 'C' : 16.35, 'C#' : 17.32, 'D' : 18.35, 'D#' : 19.0, 'E' : 20.6, 'Eb' : 19.445, 'F' : 21.83, 'F#' : 23.12 ,'G' : 24.5, 'G#' : 25.96}\n",
    "\n",
    "    # Conversiones de hexa a nota + octava.\n",
    "    df = pd.read_csv('notes.csv').set_index('Num')\n",
    "    \n",
    "    # Constructor. Tira error si se intenta instanciar.\n",
    "    def __init__(self, *args, **kwargs):\n",
    "        raise Exception ('Cannot instantiate abstract class Instrument')\n",
    "        \n",
    "    # Carga de archivo MIDI\n",
    "    def load(self, midi): \n",
    "        self.midi, point = midi, 0\n",
    "        self.tempos = np.array([[0], [120]])\n",
    "        \n",
    "        # Genera vector de tempos para cada momento de la canción\n",
    "        for ev in self.midi.tracks[0]:\n",
    "            point += ev.time\n",
    "            if ev.is_meta and ev.type == 'set_tempo':\n",
    "                if point == 0: self.tempos = np.array([[point], [ev.tempo]])\n",
    "                else: self.tempos = np.append(self.tempos, [[point], [ev.tempo]], axis = 1)\n",
    "\n",
    "        # Genera vector de tiempo/tick para cada momento de la canción\n",
    "        self.time_steps = self.tempos[1] / (1e6 * self.midi.ticks_per_beat)\n",
    "    \n",
    "    # Devuelve el tiempo/tick para cierto punto de la canción\n",
    "    def current_timestep(self, point):\n",
    "        return self.time_steps[self.tempos[0] <= point][-1]\n",
    "\n",
    "    # Sintetiza el track elegido del MIDI previamente cargado.\n",
    "    # add: Si es True, entonces no borra los datos anterior, sino que los superpone.\n",
    "    # nochannels: Qué canales no cargar.\n",
    "    # stretch_lim: Límite inferior de frecuencia para lingering\n",
    "    # lowtone: Cuántos armónicos bajarle a las notas.\n",
    "    def synthesize(self, track : int, fs : float, add = False, nochannels = [], stretch_lim = 150, lowtone = 0):\n",
    "        self.track = self.midi.tracks[track]\n",
    "        self.fs = fs\n",
    "\n",
    "        if not hasattr(self, 'sound'): self.sound = np.zeros(int(np.ceil(self.fs * self.midi.length)))\n",
    "        elif not add: self.sound[:] = 0\n",
    "            \n",
    "        point = real_time = 0\n",
    "        self.used_off = []\n",
    "        \n",
    "        # Itera por cada evento en el track\n",
    "        for i, ev in enumerate(self.track):\n",
    "            \n",
    "            # Carga los valores de tiempo (real y ticks)\n",
    "            real_time += ev.time * self.current_timestep(point)\n",
    "            point += ev.time\n",
    "            \n",
    "            # Si el evento es apto para ser cargado como nota...\n",
    "            if not ev.is_meta and ev.type == 'note_on' and not ev.channel in nochannels and not i in self.used_off:\n",
    "                \n",
    "                # Obtiene información de la nota (frecuencia + octava)\n",
    "                info = self.df.loc[ev.note]\n",
    "                fnote, octave = self.notes[info['Note']], info['Octave']\n",
    "            \n",
    "                # Busca cuándo termina la nota y obtiene su duración\n",
    "                d, v = self._find_off(ev.note, i, ev.channel)\n",
    "                duration = d * self.current_timestep(point) * 1.5\n",
    "                \n",
    "                # Agrega la nota al vector de sonido\n",
    "                if duration: self._add_note(fnote, octave, duration, max(v, ev.velocity), real_time, stretch_lim, lowtone)\n",
    "    \n",
    "    # Agrega una nota al vector de sonido\n",
    "    # fnote: Frecuencia\n",
    "    # octave: Octava\n",
    "    # duration: Duración\n",
    "    # velocity: Intensidad\n",
    "    # stretch_lim: Límite inferior de frecuencia para lingering\n",
    "    # lowtone: Cuántos armónicos bajarle a las notas.\n",
    "    def _add_note(self, fnote, octave, duration, velocity, real_time, stretch_lim, lowtone):\n",
    "        \n",
    "        # Genera la nota y normaliza su amplitud\n",
    "        nt = self._gen_note(freq = fnote * 2**max(0, octave-lowtone), dur = duration, stretch_lim = stretch_lim)\n",
    "        nt *= velocity / np.abs(nt).max() * octave\n",
    "        \n",
    "        # Busca el índice en el que empieza la nota\n",
    "        idx = int(np.round((self.fs * real_time), 0))\n",
    "\n",
    "        # Agrega puntos en caso de sobrar por redondeos\n",
    "        if idx + nt.size > self.sound.size:\n",
    "            self.sound = np.append(self.sound, np.zeros(idx + nt.size - self.sound.size))\n",
    "                    \n",
    "        # Agrega la nota\n",
    "        self.sound[idx : idx + nt.size] += nt\n",
    "    \n",
    "    # Busca cuándo termina una nota\n",
    "    # note: La nota que debe terminar\n",
    "    # idx: Índice a partir del cual puede estar el evento de off\n",
    "    # channel: Canal al cual corresponde la nota\n",
    "    def _find_off(self, note, idx, channel):\n",
    "        tot = 0\n",
    "        # Itera por cada evento, sumando los tiempos\n",
    "        for i, ev in enumerate(self.track[idx + 1:]):\n",
    "            tot += ev.time\n",
    "            \n",
    "            # Si encontró el correcto, devuelve la duración y la intensidad\n",
    "            if not ev.is_meta and ev.type in ['note_on', 'note_off'] and ev.note == note and ev.channel == channel:\n",
    "                self.used_off.append(i + idx + 1)\n",
    "                return tot, ev.velocity\n",
    "        return 0#raise Exception('MIDI error - Note never turned off')"
   ]
  },
  {
   "cell_type": "code",
   "execution_count": 3,
   "id": "d65940f9-2b78-4bb0-9640-f8919b8a871a",
   "metadata": {
    "tags": []
   },
   "outputs": [],
   "source": [
    "# Clase abstracta KSInstrument para los instrumentos sintetizados por Karplus-Strong\n",
    "class KSInstrument(Instrument):\n",
    "    \n",
    "    # Constructor. Tira error si se intenta instanciar.\n",
    "    def __init__(self, *args, **kwargs):\n",
    "        raise Exception('Cannot instantiate abstract class KSInstrument')\n",
    "        \n",
    "    # Método que se debe sobreescribir para cada clase de instrumento. Genera una nota.\n",
    "    # freq: Frecuencia de la nota\n",
    "    # dur: Duración de la nota\n",
    "    # stretch_factor: Límite inferior de frecuencia para lingering\n",
    "    # b: Parámetro propio de cada instrumento\n",
    "    # La frecuencia de sampleo fs es propia de la instancia, y se obtiene con self.fs   \n",
    "    def _gen_note(self, freq, dur, stretch_factor, b):\n",
    "        \n",
    "        # Genera el N (o L) de Karplus-Strong para la frecuencia de la nota y fs\n",
    "        N = int(np.round(self.fs/freq - 1/(2 * stretch_factor), 0))\n",
    "        \n",
    "        # Crea vector resultante con la duración correspondiente\n",
    "        samples = np.zeros(int(np.round(self.fs * dur, 0)))\n",
    "        \n",
    "        # Genera ruido inicial con -1 y 1.\n",
    "        samples[ : N] = (2 * np.random.randint(0, 2, N) - 1).astype(float)\n",
    "        \n",
    "        k = np.zeros(N)\n",
    "        r = np.random.binomial(1, 1 / stretch_factor, samples.size).astype(bool)\n",
    "        \n",
    "        for i in range(N, N * (1 + samples.size//N), N):\n",
    "            idx = r[i : i + N]\n",
    "            k = k[ : idx.size]\n",
    "            \n",
    "            t1 = samples[i - N : i - N + k.size]\n",
    "            if i == N: t2 = np.concatenate(([samples[i - N - 1]], samples[i - N : i - N - 1 + k.size]))\n",
    "            else: t2 =  samples[i - N - 1 : i - N - 1 + k.size]\n",
    "                \n",
    "            k[~idx] = t1[~idx]\n",
    "            k[idx] = (t1 + t2)[idx]/2\n",
    "            \n",
    "            samples[i : i + N] = b * k\n",
    "            \n",
    "        return samples\n",
    "    \n",
    "# Clase guitarra, hereda de KSInstrument. Sobreescribe a _gen_note con b = 1\n",
    "class Guitar(KSInstrument):\n",
    "    \n",
    "    def __init__(self, *args, **kwargs):\n",
    "        pass\n",
    "        \n",
    "    def _gen_note(self, freq, dur = 1, b = 1, stretch_lim = 150):\n",
    "        return super()._gen_note(freq = freq, dur = dur, b = 1, stretch_factor = max(1, freq / stretch_lim))\n",
    "    \n",
    "# Clase harpa, hereda de KSInstrument. Sobreescribe a _gen_note con b = -1\n",
    "class Harp(KSInstrument):\n",
    "    \n",
    "    def __init__(self, *args, **kwargs):\n",
    "        pass\n",
    "        \n",
    "    def _gen_note(self, freq, dur = 1, velocity = 50, b = 1, stretch_lim = 150):\n",
    "        return super()._gen_note(freq = freq, dur = dur, b = -1, stretch_factor = max(1, freq / stretch_lim))\n",
    "    \n",
    "class drumB:\n",
    "    def __init__(self):\n",
    "        pass\n",
    "    def __mul__(self, other):\n",
    "        return other * (-1)**np.random.binomial(1, .5, other.size)\n",
    "\n",
    "# Clase tambor, hereda de KSInstrument. Sobreescribe a _gen_note con b = drumB(), que al multiplicar toma valor \n",
    "# 1 o -1 con probabilidad 0.5.\n",
    "class Drum(KSInstrument):\n",
    "    def __init__(self, *args, **kwargs):\n",
    "        pass\n",
    "    \n",
    "    def _gen_note(self, freq, dur = 1, velocity = 50, b = 1, stretch_lim = 150):\n",
    "        return super()._gen_note(freq = freq, dur = dur, b = drumB(), stretch_factor = max(1, freq / stretch_lim))"
   ]
  },
  {
   "cell_type": "code",
   "execution_count": 4,
   "id": "416e0581-d073-4e34-8a18-3cd706bbf229",
   "metadata": {},
   "outputs": [],
   "source": [
    "# Clase reproductor. \n",
    "class Player:\n",
    "    \n",
    "    CHUNKSIZE = 1024\n",
    "    working = False\n",
    "    \n",
    "    # Constructor. Si no tiene PyAudio, lo crea. Setea los parámetros iniciales.\n",
    "    def __init__(self, *args, **kwargs):\n",
    "        if not Player.working: \n",
    "            Player.pAudio = pa.PyAudio() \n",
    "            Player.working = True\n",
    "        \n",
    "        self.paused = self.stop_playing = False\n",
    "        self.th = Thread(target = self._keep_playing)\n",
    "    \n",
    "    # Carga de nuevo sonido\n",
    "    def load(self, data, fs):\n",
    "        \n",
    "        # Normaliza el sonido y actualiza los parámetros\n",
    "        self.sound = (data / np.abs(data).max()).astype(np.float32)\n",
    "        self.fs = fs\n",
    "        self._close_stream()\n",
    "        \n",
    "        # Crea nuevo stream\n",
    "        self.stream = self.pAudio.open(rate = self.fs, format = pa.paFloat32, channels = 1, output = True)\n",
    "        self.stream.start_stream()\n",
    "        \n",
    "    # Thread de loopeo. Va tomando datos de a CHUNKSIZE y mandándolos al stream\n",
    "    def _keep_playing(self):\n",
    "        data = self.sound[ : self.CHUNKSIZE].tobytes()\n",
    "        self.idx += 1\n",
    "        \n",
    "        while len(data) and not self.stop_playing:\n",
    "            if not self.paused:\n",
    "                self.stream.write(data)\n",
    "                data = self.sound[self.idx * self.CHUNKSIZE : (self.idx + 1) * self.CHUNKSIZE].tobytes()\n",
    "                self.idx += 1\n",
    "\n",
    "        self.stop_playing = False\n",
    "        \n",
    "    # Play. Inicia nueva reproducción o saca la pausa, dependiendo del estado actual\n",
    "    def play(self, **kwargs): \n",
    "        \n",
    "        if self.paused: \n",
    "            self.paused = False\n",
    "        \n",
    "        else:\n",
    "            self.stop_playing = True\n",
    "            if self.th.is_alive(): self.th.join() \n",
    "\n",
    "            self.idx, self.stop_playing = 0, False\n",
    "            self.th = Thread(target = self._keep_playing)\n",
    "            self.th.start()\n",
    "    \n",
    "    # Cierra el stream previo\n",
    "    def _close_stream(self):\n",
    "        self.stop_playing = True\n",
    "        if self.th.is_alive(): self.th.join()\n",
    "            \n",
    "        if hasattr(self, 'stream') and self.stream.is_active(): \n",
    "            self.stream.stop_stream()\n",
    "            self.stream.close()   \n",
    "    \n",
    "    # Termina la reproducción\n",
    "    def stop(self): \n",
    "        self.stop_playing = True\n",
    "        self.paused = False\n",
    "    \n",
    "    # Pausa la reproducción\n",
    "    def pause(self): \n",
    "        self.paused = True\n",
    "        \n",
    "    # Libera recursos de PyAudio. Llamar siempre antes de cerrar el programa.\n",
    "    def close(self): \n",
    "        self._close_stream()\n",
    "        self.pAudio.terminate()\n",
    "        Player.working = False"
   ]
  },
  {
   "cell_type": "code",
   "execution_count": 5,
   "id": "1da83ed6-6405-446b-aebe-7cb0438bbabb",
   "metadata": {},
   "outputs": [],
   "source": [
    "try: player.close()\n",
    "except: pass\n",
    "player = Player()\n",
    "guitar = Guitar()\n",
    "harp = Harp()"
   ]
  },
  {
   "cell_type": "markdown",
   "id": "87264ba9-8360-43de-b442-e601004f2029",
   "metadata": {},
   "source": [
    "## Hotel California"
   ]
  },
  {
   "cell_type": "code",
   "execution_count": 12,
   "id": "9ddb4928-f30e-462a-8301-0d3ba679d2e1",
   "metadata": {},
   "outputs": [
    {
     "name": "stdout",
     "output_type": "stream",
     "text": [
      "Synthesized\n"
     ]
    }
   ],
   "source": [
    "file = mido.MidiFile(\"Samples/hotelcal2.mid\")\n",
    "guitar.load(midi = file)\n",
    "guitar.synthesize(fs = 48000, track = 0, lowtone = 0, stretch_lim = 500)\n",
    "print('Synthesized')\n",
    "player.load(guitar.sound, guitar.fs)\n",
    "player.play()"
   ]
  },
  {
   "cell_type": "markdown",
   "id": "1afa52ca-2442-4ae2-a634-b83123992264",
   "metadata": {},
   "source": [
    "## Under the Sea"
   ]
  },
  {
   "cell_type": "code",
   "execution_count": null,
   "id": "60ea26cb-8d46-4bbd-ae6c-625fa8f081de",
   "metadata": {},
   "outputs": [],
   "source": [
    "file2 = mido.MidiFile(\"Samples/Disney_Themes_-_Under_The_Sea.mid\")\n",
    "guitar.load(midi = file2)\n",
    "harp.load(midi = file2)\n",
    "for i in range(1, len(file2.tracks)):\n",
    "    print(f'Track {i} of {len(file2.tracks) - 1}')\n",
    "    if not i%2: guitar.synthesize(fs = 2**16, track = i, add = i != 2)\n",
    "    else: harp.synthesize(fs = 2**16, track = i, add = i != 1)\n",
    "\n",
    "if guitar.sound.size < harp.sound.size: guitar.sound = np.append(guitar.sound, np.zeros(harp.sound.size - guitar.sound.size))\n",
    "else: harp.sound = np.append(harp.sound, np.zeros(guitar.sound.size - harp.sound.size))\n",
    "player.load(guitar.sound + harp.sound, guitar.fs)\n",
    "player.play()"
   ]
  },
  {
   "cell_type": "markdown",
   "id": "cd8b9f7b-50af-47de-b693-d9c2cd2449e0",
   "metadata": {},
   "source": [
    "## Never Gonna Give You Up"
   ]
  },
  {
   "cell_type": "code",
   "execution_count": null,
   "id": "8a5df061-efe6-461e-acbd-43387f91881c",
   "metadata": {},
   "outputs": [],
   "source": [
    "file3 = mido.MidiFile(\"Samples/Never-Gonna-Give-You-Up-3.mid\")\n",
    "guitar.load(midi = file3)\n",
    "guitar.synthesize(fs = 48000, track = 0)\n",
    "print('Synthesized')\n",
    "player.load(guitar.sound, guitar.fs)\n",
    "player.play()"
   ]
  },
  {
   "cell_type": "markdown",
   "id": "c3276a65-e278-47c1-bfef-0a9093f57f57",
   "metadata": {},
   "source": [
    "## Happy Birthday"
   ]
  },
  {
   "cell_type": "code",
   "execution_count": null,
   "id": "a028ffaf-235d-4d74-9ba7-17ef5fb2b7e0",
   "metadata": {},
   "outputs": [],
   "source": [
    "file4 = mido.MidiFile(\"Samples/happy_birthday.mid\")\n",
    "guitar.load(midi = file4)\n",
    "guitar.synthesize(fs = 48000, track = 1)\n",
    "print('Synthesized')\n",
    "player.load(guitar.sound, guitar.fs)\n",
    "player.play()"
   ]
  },
  {
   "cell_type": "markdown",
   "id": "c44b65d4-0b7e-4196-bee1-00215772df6f",
   "metadata": {},
   "source": [
    "## Losing My Religion"
   ]
  },
  {
   "cell_type": "code",
   "execution_count": 26,
   "id": "4bd4f0dd-b2e1-482f-a987-ea3c9aeef1e9",
   "metadata": {},
   "outputs": [
    {
     "name": "stdout",
     "output_type": "stream",
     "text": [
      "Synthesized\n"
     ]
    }
   ],
   "source": [
    "file5 = mido.MidiFile(\"Samples/losing_my_religion.mid\")\n",
    "guitar.load(midi = file5)\n",
    "guitar.synthesize(fs = 48000, track = 2, lowtone = 1, stretch_lim = 500)\n",
    "print('Synthesized')\n",
    "player.load(guitar.sound, guitar.fs)\n",
    "player.play()"
   ]
  },
  {
   "cell_type": "markdown",
   "id": "23c4e1e1-64ed-4db7-ad58-b889dc5a4e34",
   "metadata": {},
   "source": [
    "## Pirates of the Caribbean"
   ]
  },
  {
   "cell_type": "code",
   "execution_count": 8,
   "id": "71da9721-c698-431b-9341-bcec290e41c7",
   "metadata": {},
   "outputs": [
    {
     "name": "stdout",
     "output_type": "stream",
     "text": [
      "Synthesized\n"
     ]
    }
   ],
   "source": [
    "file8 = mido.MidiFile(\"Samples/26593_Hes-a-Pirate.mid\")\n",
    "guitar.load(midi = file8)\n",
    "guitar.synthesize(fs = 48000, track = 1, stretch_lim = 500, lowtone = 0)\n",
    "guitar.synthesize(fs = 48000, track = 2, stretch_lim = 500, lowtone = 0, add = True)\n",
    "print('Synthesized')\n",
    "player.load(guitar.sound, guitar.fs)\n",
    "player.play()"
   ]
  },
  {
   "cell_type": "markdown",
   "id": "ff74b1a1-ac7d-45a5-8145-0e8672e88d94",
   "metadata": {},
   "source": [
    "## Game of Thrones"
   ]
  },
  {
   "cell_type": "code",
   "execution_count": 14,
   "id": "41d7bc20-9f93-4e89-aa8b-f6d38973d78f",
   "metadata": {},
   "outputs": [
    {
     "name": "stdout",
     "output_type": "stream",
     "text": [
      "Synthesized\n"
     ]
    }
   ],
   "source": [
    "file10 = mido.MidiFile(\"Samples/GameofThrones.mid\")\n",
    "guitar.load(midi = file10)\n",
    "guitar.synthesize(fs = 48000, track = 1, stretch_lim = 300)\n",
    "guitar.synthesize(fs = 48000, track = 2, stretch_lim = 500, add = True)\n",
    "guitar.synthesize(fs = 48000, track = 3, stretch_lim = 500, add = True)\n",
    "guitar.synthesize(fs = 48000, track = 4, stretch_lim = 500, add = True)\n",
    "print('Synthesized')\n",
    "player.load(guitar.sound, guitar.fs)\n",
    "player.play()"
   ]
  },
  {
   "cell_type": "markdown",
   "id": "12609723-f694-4aa6-a579-a15e748ec30f",
   "metadata": {},
   "source": [
    "## Moonlight Sonata"
   ]
  },
  {
   "cell_type": "code",
   "execution_count": 20,
   "id": "00339724-bded-41d3-bb16-48cc2d6a5832",
   "metadata": {},
   "outputs": [
    {
     "name": "stdout",
     "output_type": "stream",
     "text": [
      "Synthesized\n"
     ]
    }
   ],
   "source": [
    "file11 = mido.MidiFile(\"Samples/Beethoven-Moonlight-Sonata.mid\")\n",
    "guitar.load(midi = file11)\n",
    "guitar.synthesize(track = 1, fs = 48000, lowtone = 1)\n",
    "guitar.synthesize(track = 2, fs = 48000, add = True)\n",
    "print('Synthesized')\n",
    "player.load(guitar.sound, guitar.fs)\n",
    "player.play()"
   ]
  },
  {
   "cell_type": "markdown",
   "id": "80d4944e-9fd9-4807-bda4-8a32ff0e5244",
   "metadata": {},
   "source": [
    "## Simpsons"
   ]
  },
  {
   "cell_type": "code",
   "execution_count": 10,
   "id": "c4bd7af9-32c5-4d7f-8267-6059ca7ec0d2",
   "metadata": {
    "tags": []
   },
   "outputs": [
    {
     "name": "stdout",
     "output_type": "stream",
     "text": [
      "Synthesized\n"
     ]
    }
   ],
   "source": [
    "file12 = mido.MidiFile(\"Samples/Simpsons.mid\")\n",
    "guitar.load(midi = file12)\n",
    "for i, track in enumerate(file12.tracks):\n",
    "    guitar.synthesize(fs = 48000, track = i, add = i != 0)\n",
    "    \n",
    "print('Synthesized')\n",
    "player.load(guitar.sound, guitar.fs)\n",
    "player.play()"
   ]
  },
  {
   "cell_type": "markdown",
   "id": "73709ac8-c926-4e2d-a745-252f5829c879",
   "metadata": {},
   "source": [
    "## Tetris"
   ]
  },
  {
   "cell_type": "code",
   "execution_count": 18,
   "id": "37a8f941-ef27-42b7-afa9-03d24ddf2cd3",
   "metadata": {},
   "outputs": [
    {
     "name": "stdout",
     "output_type": "stream",
     "text": [
      "Synthesized\n"
     ]
    }
   ],
   "source": [
    "file13 = mido.MidiFile(\"Samples/Tetris_-_Theme_A.mid\")\n",
    "guitar.load(midi = file13)\n",
    "for i in range(1, len(file13.tracks)):\n",
    "    guitar.synthesize(fs = 48000, track = i, add = i!=1)\n",
    "print('Synthesized')\n",
    "player.load(guitar.sound, guitar.fs)\n",
    "player.play()"
   ]
  },
  {
   "cell_type": "code",
   "execution_count": 13,
   "id": "02985461-8506-43b4-9880-e387f3907b34",
   "metadata": {},
   "outputs": [],
   "source": [
    "player.pause()"
   ]
  },
  {
   "cell_type": "code",
   "execution_count": 19,
   "id": "ae5ebbf8-cc6e-44da-bd7c-849bce04c683",
   "metadata": {},
   "outputs": [],
   "source": [
    "player.stop()"
   ]
  }
 ],
 "metadata": {
  "kernelspec": {
   "display_name": "Python 3",
   "language": "python",
   "name": "python3"
  },
  "language_info": {
   "codemirror_mode": {
    "name": "ipython",
    "version": 3
   },
   "file_extension": ".py",
   "mimetype": "text/x-python",
   "name": "python",
   "nbconvert_exporter": "python",
   "pygments_lexer": "ipython3",
   "version": "3.9.2"
  }
 },
 "nbformat": 4,
 "nbformat_minor": 5
}
